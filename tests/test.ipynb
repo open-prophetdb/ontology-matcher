{
 "cells": [
  {
   "cell_type": "code",
   "execution_count": 4,
   "metadata": {},
   "outputs": [],
   "source": [
    "from ontology_matcher.disease import DiseaseOntologyFormatter, DiseaseOntologyConverter"
   ]
  },
  {
   "cell_type": "code",
   "execution_count": 5,
   "metadata": {},
   "outputs": [
    {
     "name": "stdout",
     "output_type": "stream",
     "text": [
      "NOTICE:\n",
      "You can find more details on the following websites (NOTICE: We don't check whether an ID is valid; we simply attempt to map it to the default ontology database we have chosen):\n",
      "MONDO: https://www.ebi.ac.uk/ols4/ontologies/mondo\n",
      "DOID: https://www.ebi.ac.uk/ols4/ontologies/doid\n",
      "MESH: https://meshb.nlm.nih.gov/search\n",
      "OMIM: https://www.omim.org/\n",
      "ICD-9: https://www.cdc.gov/nchs/icd/icd9.htm\n",
      "HP: https://hpo.jax.org/app/\n",
      "ICD10CM: https://www.cdc.gov/nchs/icd/icd-10-cm.htm\n",
      "ORDO: https://www.orpha.net/consor/cgi-bin/index.php\n",
      "UMLS: https://www.nlm.nih.gov/research/umls/\n",
      "\n",
      "\n",
      "ConversionResult(ids=['MESH:D000069290'], strategy=<Strategy.MIXTURE: 'Mixture'>, default_database='MONDO', converted_ids=[ConvertedId(idx=0, raw_id='MESH:D000069290', metadata=None)], databases=['MONDO', 'DOID', 'MESH', 'OMIM', 'ICD-9', 'HP', 'ICD10CM', 'ORDO', 'UMLS'], database_url='https://www.ebi.ac.uk/spot/oxo/api/search', failed_ids=[])\n"
     ]
    }
   ],
   "source": [
    "ids = [\n",
    "    \"MESH:D000069290\"\n",
    "]\n",
    "disease = DiseaseOntologyConverter(ids)\n",
    "result = disease.convert()\n",
    "print(result)"
   ]
  },
  {
   "cell_type": "code",
   "execution_count": 6,
   "metadata": {},
   "outputs": [
    {
     "data": {
      "text/plain": [
       "[ConvertedId(idx=0, raw_id='MESH:D000069290', metadata=None)]"
      ]
     },
     "execution_count": 6,
     "metadata": {},
     "output_type": "execute_result"
    }
   ],
   "source": [
    "from ontology_matcher.apis import MyDisease\n",
    "\n",
    "r = MyDisease.update_metadata(result.converted_ids, database=\"MONDO\")\n",
    "r"
   ]
  },
  {
   "cell_type": "code",
   "execution_count": 7,
   "metadata": {},
   "outputs": [
    {
     "name": "stdout",
     "output_type": "stream",
     "text": [
      "MESH:D000069290\n"
     ]
    }
   ],
   "source": [
    "print(r[0].raw_id)"
   ]
  }
 ],
 "metadata": {
  "kernelspec": {
   "display_name": "network-medicine",
   "language": "python",
   "name": "python3"
  },
  "language_info": {
   "codemirror_mode": {
    "name": "ipython",
    "version": 3
   },
   "file_extension": ".py",
   "mimetype": "text/x-python",
   "name": "python",
   "nbconvert_exporter": "python",
   "pygments_lexer": "ipython3",
   "version": "3.10.12"
  },
  "orig_nbformat": 4
 },
 "nbformat": 4,
 "nbformat_minor": 2
}
